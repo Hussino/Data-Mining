{
 "cells": [
  {
   "cell_type": "markdown",
   "metadata": {},
   "source": [
    "First I replaced all absences higher than 25 with \"absences\" mean and exported the result to a new file named: \"Students_Cleaned.csv\"."
   ]
  },
  {
   "cell_type": "code",
   "execution_count": 2,
   "metadata": {},
   "outputs": [
    {
     "data": {
      "text/plain": [
       "40    25.0\n",
       "Name: absences, dtype: float64"
      ]
     },
     "execution_count": 2,
     "metadata": {},
     "output_type": "execute_result"
    }
   ],
   "source": [
    "import pandas as pd\n",
    "df = pd.read_csv('Dataset.csv')\n",
    "\n",
    "\n",
    "mean_absences = df['absences'].mean()\n",
    "\n",
    "\n",
    "df.loc[df['absences'] > 25, 'absences'] = mean_absences\n",
    "df[df.absences>=25].absences"
   ]
  },
  {
   "cell_type": "code",
   "execution_count": 3,
   "metadata": {},
   "outputs": [],
   "source": [
    "df.to_csv(\"Students_Cleaned.csv\")"
   ]
  },
  {
   "cell_type": "code",
   "execution_count": 4,
   "metadata": {},
   "outputs": [
    {
     "data": {
      "text/plain": [
       "Series([], Name: absences, dtype: float64)"
      ]
     },
     "execution_count": 4,
     "metadata": {},
     "output_type": "execute_result"
    }
   ],
   "source": [
    "df[df.absences>25].absences"
   ]
  },
  {
   "cell_type": "markdown",
   "metadata": {},
   "source": [
    "The below code drops duplicates, and replaces the null values in the \"guardian\" column with the column's mode\n",
    "\n",
    "Aswell as remove all rows with null values in their \"Pstatus\" attribute."
   ]
  },
  {
   "cell_type": "code",
   "execution_count": 8,
   "metadata": {},
   "outputs": [
    {
     "data": {
      "text/plain": [
       "386    T\n",
       "387    T\n",
       "388    T\n",
       "389    T\n",
       "390    A\n",
       "391    T\n",
       "392    T\n",
       "393    T\n",
       "394    T\n",
       "396    T\n",
       "Name: Pstatus, dtype: object"
      ]
     },
     "execution_count": 8,
     "metadata": {},
     "output_type": "execute_result"
    }
   ],
   "source": [
    "new_df = pd.read_csv('Students_Cleaned.csv')\n",
    "new_df.duplicated().tail(10)\n",
    "\n",
    "new_df.drop_duplicates(inplace=True)\n",
    "new_df.duplicated()\n",
    "\n",
    "newer_df = new_df.copy()\n",
    "guardian_mode = newer_df['guardian'].mode()[0]\n",
    "newer_df['guardian'].fillna(guardian_mode, inplace=True)\n",
    "newer_df['guardian'].tail(10)\n",
    "newer_df.dropna(subset=['Pstatus'], inplace=True)\n",
    "newer_df['Pstatus'].tail(10)\n"
   ]
  },
  {
   "cell_type": "code",
   "execution_count": null,
   "metadata": {},
   "outputs": [],
   "source": []
  }
 ],
 "metadata": {
  "kernelspec": {
   "display_name": "Python 3",
   "language": "python",
   "name": "python3"
  },
  "language_info": {
   "codemirror_mode": {
    "name": "ipython",
    "version": 3
   },
   "file_extension": ".py",
   "mimetype": "text/x-python",
   "name": "python",
   "nbconvert_exporter": "python",
   "pygments_lexer": "ipython3",
   "version": "3.8.5"
  }
 },
 "nbformat": 4,
 "nbformat_minor": 2
}
