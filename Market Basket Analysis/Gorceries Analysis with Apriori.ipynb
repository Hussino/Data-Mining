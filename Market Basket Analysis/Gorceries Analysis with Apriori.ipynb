{
 "cells": [
  {
   "cell_type": "code",
   "execution_count": 1,
   "metadata": {},
   "outputs": [
    {
     "data": {
      "text/html": [
       "<div>\n",
       "<style scoped>\n",
       "    .dataframe tbody tr th:only-of-type {\n",
       "        vertical-align: middle;\n",
       "    }\n",
       "\n",
       "    .dataframe tbody tr th {\n",
       "        vertical-align: top;\n",
       "    }\n",
       "\n",
       "    .dataframe thead th {\n",
       "        text-align: right;\n",
       "    }\n",
       "</style>\n",
       "<table border=\"1\" class=\"dataframe\">\n",
       "  <thead>\n",
       "    <tr style=\"text-align: right;\">\n",
       "      <th></th>\n",
       "      <th>Transaction</th>\n",
       "      <th>Item</th>\n",
       "      <th>date_time</th>\n",
       "      <th>period_day</th>\n",
       "      <th>weekday_weekend</th>\n",
       "    </tr>\n",
       "  </thead>\n",
       "  <tbody>\n",
       "    <tr>\n",
       "      <th>0</th>\n",
       "      <td>1</td>\n",
       "      <td>Bread</td>\n",
       "      <td>30-10-2016 09:58</td>\n",
       "      <td>morning</td>\n",
       "      <td>weekend</td>\n",
       "    </tr>\n",
       "    <tr>\n",
       "      <th>1</th>\n",
       "      <td>2</td>\n",
       "      <td>Scandinavian</td>\n",
       "      <td>30-10-2016 10:05</td>\n",
       "      <td>morning</td>\n",
       "      <td>weekend</td>\n",
       "    </tr>\n",
       "    <tr>\n",
       "      <th>2</th>\n",
       "      <td>2</td>\n",
       "      <td>Scandinavian</td>\n",
       "      <td>30-10-2016 10:05</td>\n",
       "      <td>morning</td>\n",
       "      <td>weekend</td>\n",
       "    </tr>\n",
       "    <tr>\n",
       "      <th>3</th>\n",
       "      <td>3</td>\n",
       "      <td>Hot chocolate</td>\n",
       "      <td>30-10-2016 10:07</td>\n",
       "      <td>morning</td>\n",
       "      <td>weekend</td>\n",
       "    </tr>\n",
       "    <tr>\n",
       "      <th>4</th>\n",
       "      <td>3</td>\n",
       "      <td>Jam</td>\n",
       "      <td>30-10-2016 10:07</td>\n",
       "      <td>morning</td>\n",
       "      <td>weekend</td>\n",
       "    </tr>\n",
       "  </tbody>\n",
       "</table>\n",
       "</div>"
      ],
      "text/plain": [
       "   Transaction           Item         date_time period_day weekday_weekend\n",
       "0            1          Bread  30-10-2016 09:58    morning         weekend\n",
       "1            2   Scandinavian  30-10-2016 10:05    morning         weekend\n",
       "2            2   Scandinavian  30-10-2016 10:05    morning         weekend\n",
       "3            3  Hot chocolate  30-10-2016 10:07    morning         weekend\n",
       "4            3            Jam  30-10-2016 10:07    morning         weekend"
      ]
     },
     "execution_count": 1,
     "metadata": {},
     "output_type": "execute_result"
    }
   ],
   "source": [
    "import pandas as pd\n",
    "import matplotlib.pyplot as plt\n",
    "import numpy as np\n",
    "import seaborn as sns\n",
    "df = pd.read_csv(\"bread basket.csv\")\n",
    "\n",
    "df.head()\n"
   ]
  },
  {
   "cell_type": "markdown",
   "metadata": {},
   "source": [
    "Checking how many customers we have, as there are duplicate values in 'Transaction' Column\n",
    "\n",
    "Then we convert the date_time column so we can manipulate it."
   ]
  },
  {
   "cell_type": "code",
   "execution_count": 2,
   "metadata": {},
   "outputs": [],
   "source": [
    "df['Transaction'].nunique()\n",
    "df['date_time'] = pd.to_datetime(df['date_time'])"
   ]
  },
  {
   "cell_type": "markdown",
   "metadata": {},
   "source": [
    "Here I Manipulate the time column and split it into multiple columns to make it easier to interact with.\n",
    "\n",
    "First we give the time and hour their own columns:"
   ]
  },
  {
   "cell_type": "code",
   "execution_count": 3,
   "metadata": {},
   "outputs": [
    {
     "data": {
      "text/plain": [
       "0         9-10\n",
       "1        10-11\n",
       "2        10-11\n",
       "3        10-11\n",
       "4        10-11\n",
       "         ...  \n",
       "20502    14-15\n",
       "20503    14-15\n",
       "20504    14-15\n",
       "20505    14-15\n",
       "20506    15-16\n",
       "Name: hour, Length: 20507, dtype: object"
      ]
     },
     "execution_count": 3,
     "metadata": {},
     "output_type": "execute_result"
    }
   ],
   "source": [
    "df['date'] = df['date_time'].dt.date\n",
    "\n",
    "df['time'] = df['date_time'].dt.time\n",
    "\n",
    "df['hour'] = df['date_time'].dt.hour\n",
    "\n",
    "hour_in_num = (1,7,8,9,10,11,12,13,14,15,16,17,18,19,20,21,22,23)\n",
    "hour_in_obj = ('1-2','7-8','8-9','9-10','10-11','11-12','12-13','13-14','14-15',\n",
    "               '15-16','16-17','17-18','18-19','19-20','20-21','21-22','22-23','23-24')\n",
    "df['hour'] = df['hour'].replace(hour_in_num, hour_in_obj)\n",
    "df['hour']\n",
    "\n"
   ]
  },
  {
   "cell_type": "markdown",
   "metadata": {},
   "source": [
    "Secondly, the months, and weekdays.\n",
    "\n",
    "And after finishing, we can drop the date_time column since we don't need it anymore."
   ]
  },
  {
   "cell_type": "code",
   "execution_count": 4,
   "metadata": {},
   "outputs": [],
   "source": [
    "\n",
    "\n",
    "df['month'] = df['date_time'].dt.month\n",
    "df['month'] = df['month'].replace((1,2,3,4,5,6,7,8,9,10,11,12), \n",
    "                                ('January','February','March','April','May','June','July','August',\n",
    "                                'September','October','November','December'))\n",
    "\n",
    "df['weekday'] = df['date_time'].dt.weekday\n",
    "df['weekday'] = df['weekday'].replace((0,1,2,3,4,5,6), \n",
    "                                          ('Monday','Tuesday','Wednesday','Thursday','Friday','Saturday','Sunday'))\n",
    "\n",
    "df['month']\n",
    "df['weekday']\n",
    "df.head(15)\n",
    "df.drop('date_time', axis = 1, inplace = True)\n"
   ]
  },
  {
   "cell_type": "code",
   "execution_count": 5,
   "metadata": {},
   "outputs": [
    {
     "data": {
      "text/html": [
       "<div>\n",
       "<style scoped>\n",
       "    .dataframe tbody tr th:only-of-type {\n",
       "        vertical-align: middle;\n",
       "    }\n",
       "\n",
       "    .dataframe tbody tr th {\n",
       "        vertical-align: top;\n",
       "    }\n",
       "\n",
       "    .dataframe thead th {\n",
       "        text-align: right;\n",
       "    }\n",
       "</style>\n",
       "<table border=\"1\" class=\"dataframe\">\n",
       "  <thead>\n",
       "    <tr style=\"text-align: right;\">\n",
       "      <th></th>\n",
       "      <th>Transaction</th>\n",
       "      <th>Item</th>\n",
       "      <th>period_day</th>\n",
       "      <th>weekday_weekend</th>\n",
       "      <th>date</th>\n",
       "      <th>time</th>\n",
       "      <th>hour</th>\n",
       "      <th>month</th>\n",
       "      <th>weekday</th>\n",
       "    </tr>\n",
       "  </thead>\n",
       "  <tbody>\n",
       "    <tr>\n",
       "      <th>0</th>\n",
       "      <td>1</td>\n",
       "      <td>Bread</td>\n",
       "      <td>morning</td>\n",
       "      <td>weekend</td>\n",
       "      <td>2016-10-30</td>\n",
       "      <td>09:58:00</td>\n",
       "      <td>9-10</td>\n",
       "      <td>October</td>\n",
       "      <td>Sunday</td>\n",
       "    </tr>\n",
       "    <tr>\n",
       "      <th>1</th>\n",
       "      <td>2</td>\n",
       "      <td>Scandinavian</td>\n",
       "      <td>morning</td>\n",
       "      <td>weekend</td>\n",
       "      <td>2016-10-30</td>\n",
       "      <td>10:05:00</td>\n",
       "      <td>10-11</td>\n",
       "      <td>October</td>\n",
       "      <td>Sunday</td>\n",
       "    </tr>\n",
       "    <tr>\n",
       "      <th>2</th>\n",
       "      <td>2</td>\n",
       "      <td>Scandinavian</td>\n",
       "      <td>morning</td>\n",
       "      <td>weekend</td>\n",
       "      <td>2016-10-30</td>\n",
       "      <td>10:05:00</td>\n",
       "      <td>10-11</td>\n",
       "      <td>October</td>\n",
       "      <td>Sunday</td>\n",
       "    </tr>\n",
       "    <tr>\n",
       "      <th>3</th>\n",
       "      <td>3</td>\n",
       "      <td>Hot chocolate</td>\n",
       "      <td>morning</td>\n",
       "      <td>weekend</td>\n",
       "      <td>2016-10-30</td>\n",
       "      <td>10:07:00</td>\n",
       "      <td>10-11</td>\n",
       "      <td>October</td>\n",
       "      <td>Sunday</td>\n",
       "    </tr>\n",
       "    <tr>\n",
       "      <th>4</th>\n",
       "      <td>3</td>\n",
       "      <td>Jam</td>\n",
       "      <td>morning</td>\n",
       "      <td>weekend</td>\n",
       "      <td>2016-10-30</td>\n",
       "      <td>10:07:00</td>\n",
       "      <td>10-11</td>\n",
       "      <td>October</td>\n",
       "      <td>Sunday</td>\n",
       "    </tr>\n",
       "    <tr>\n",
       "      <th>5</th>\n",
       "      <td>3</td>\n",
       "      <td>Cookies</td>\n",
       "      <td>morning</td>\n",
       "      <td>weekend</td>\n",
       "      <td>2016-10-30</td>\n",
       "      <td>10:07:00</td>\n",
       "      <td>10-11</td>\n",
       "      <td>October</td>\n",
       "      <td>Sunday</td>\n",
       "    </tr>\n",
       "    <tr>\n",
       "      <th>6</th>\n",
       "      <td>4</td>\n",
       "      <td>Muffin</td>\n",
       "      <td>morning</td>\n",
       "      <td>weekend</td>\n",
       "      <td>2016-10-30</td>\n",
       "      <td>10:08:00</td>\n",
       "      <td>10-11</td>\n",
       "      <td>October</td>\n",
       "      <td>Sunday</td>\n",
       "    </tr>\n",
       "    <tr>\n",
       "      <th>7</th>\n",
       "      <td>5</td>\n",
       "      <td>Coffee</td>\n",
       "      <td>morning</td>\n",
       "      <td>weekend</td>\n",
       "      <td>2016-10-30</td>\n",
       "      <td>10:13:00</td>\n",
       "      <td>10-11</td>\n",
       "      <td>October</td>\n",
       "      <td>Sunday</td>\n",
       "    </tr>\n",
       "    <tr>\n",
       "      <th>8</th>\n",
       "      <td>5</td>\n",
       "      <td>Pastry</td>\n",
       "      <td>morning</td>\n",
       "      <td>weekend</td>\n",
       "      <td>2016-10-30</td>\n",
       "      <td>10:13:00</td>\n",
       "      <td>10-11</td>\n",
       "      <td>October</td>\n",
       "      <td>Sunday</td>\n",
       "    </tr>\n",
       "    <tr>\n",
       "      <th>9</th>\n",
       "      <td>5</td>\n",
       "      <td>Bread</td>\n",
       "      <td>morning</td>\n",
       "      <td>weekend</td>\n",
       "      <td>2016-10-30</td>\n",
       "      <td>10:13:00</td>\n",
       "      <td>10-11</td>\n",
       "      <td>October</td>\n",
       "      <td>Sunday</td>\n",
       "    </tr>\n",
       "    <tr>\n",
       "      <th>10</th>\n",
       "      <td>6</td>\n",
       "      <td>Medialuna</td>\n",
       "      <td>morning</td>\n",
       "      <td>weekend</td>\n",
       "      <td>2016-10-30</td>\n",
       "      <td>10:16:00</td>\n",
       "      <td>10-11</td>\n",
       "      <td>October</td>\n",
       "      <td>Sunday</td>\n",
       "    </tr>\n",
       "    <tr>\n",
       "      <th>11</th>\n",
       "      <td>6</td>\n",
       "      <td>Pastry</td>\n",
       "      <td>morning</td>\n",
       "      <td>weekend</td>\n",
       "      <td>2016-10-30</td>\n",
       "      <td>10:16:00</td>\n",
       "      <td>10-11</td>\n",
       "      <td>October</td>\n",
       "      <td>Sunday</td>\n",
       "    </tr>\n",
       "    <tr>\n",
       "      <th>12</th>\n",
       "      <td>6</td>\n",
       "      <td>Muffin</td>\n",
       "      <td>morning</td>\n",
       "      <td>weekend</td>\n",
       "      <td>2016-10-30</td>\n",
       "      <td>10:16:00</td>\n",
       "      <td>10-11</td>\n",
       "      <td>October</td>\n",
       "      <td>Sunday</td>\n",
       "    </tr>\n",
       "    <tr>\n",
       "      <th>13</th>\n",
       "      <td>7</td>\n",
       "      <td>Medialuna</td>\n",
       "      <td>morning</td>\n",
       "      <td>weekend</td>\n",
       "      <td>2016-10-30</td>\n",
       "      <td>10:19:00</td>\n",
       "      <td>10-11</td>\n",
       "      <td>October</td>\n",
       "      <td>Sunday</td>\n",
       "    </tr>\n",
       "    <tr>\n",
       "      <th>14</th>\n",
       "      <td>7</td>\n",
       "      <td>Pastry</td>\n",
       "      <td>morning</td>\n",
       "      <td>weekend</td>\n",
       "      <td>2016-10-30</td>\n",
       "      <td>10:19:00</td>\n",
       "      <td>10-11</td>\n",
       "      <td>October</td>\n",
       "      <td>Sunday</td>\n",
       "    </tr>\n",
       "  </tbody>\n",
       "</table>\n",
       "</div>"
      ],
      "text/plain": [
       "    Transaction           Item period_day weekday_weekend        date  \\\n",
       "0             1          Bread    morning         weekend  2016-10-30   \n",
       "1             2   Scandinavian    morning         weekend  2016-10-30   \n",
       "2             2   Scandinavian    morning         weekend  2016-10-30   \n",
       "3             3  Hot chocolate    morning         weekend  2016-10-30   \n",
       "4             3            Jam    morning         weekend  2016-10-30   \n",
       "5             3        Cookies    morning         weekend  2016-10-30   \n",
       "6             4         Muffin    morning         weekend  2016-10-30   \n",
       "7             5         Coffee    morning         weekend  2016-10-30   \n",
       "8             5         Pastry    morning         weekend  2016-10-30   \n",
       "9             5          Bread    morning         weekend  2016-10-30   \n",
       "10            6      Medialuna    morning         weekend  2016-10-30   \n",
       "11            6         Pastry    morning         weekend  2016-10-30   \n",
       "12            6         Muffin    morning         weekend  2016-10-30   \n",
       "13            7      Medialuna    morning         weekend  2016-10-30   \n",
       "14            7         Pastry    morning         weekend  2016-10-30   \n",
       "\n",
       "        time   hour    month weekday  \n",
       "0   09:58:00   9-10  October  Sunday  \n",
       "1   10:05:00  10-11  October  Sunday  \n",
       "2   10:05:00  10-11  October  Sunday  \n",
       "3   10:07:00  10-11  October  Sunday  \n",
       "4   10:07:00  10-11  October  Sunday  \n",
       "5   10:07:00  10-11  October  Sunday  \n",
       "6   10:08:00  10-11  October  Sunday  \n",
       "7   10:13:00  10-11  October  Sunday  \n",
       "8   10:13:00  10-11  October  Sunday  \n",
       "9   10:13:00  10-11  October  Sunday  \n",
       "10  10:16:00  10-11  October  Sunday  \n",
       "11  10:16:00  10-11  October  Sunday  \n",
       "12  10:16:00  10-11  October  Sunday  \n",
       "13  10:19:00  10-11  October  Sunday  \n",
       "14  10:19:00  10-11  October  Sunday  "
      ]
     },
     "execution_count": 5,
     "metadata": {},
     "output_type": "execute_result"
    }
   ],
   "source": [
    "df.head(15)"
   ]
  },
  {
   "cell_type": "markdown",
   "metadata": {},
   "source": [
    "Then, we can clean the Item column by removing white spaces, and make them all lowercase."
   ]
  },
  {
   "cell_type": "code",
   "execution_count": 6,
   "metadata": {},
   "outputs": [
    {
     "data": {
      "text/plain": [
       "array([5471, 3325, 1435, 1025,  856,  771,  616,  590,  540,  379,  374,\n",
       "        370,  369,  369,  342,  327,  318,  277,  193,  185], dtype=int64)"
      ]
     },
     "execution_count": 6,
     "metadata": {},
     "output_type": "execute_result"
    }
   ],
   "source": [
    "df['Item'] = df['Item'].str.strip()\n",
    "df['Item'] = df['Item'].str.lower()\n",
    "df.head(15)\n",
    "df.Item.value_counts().head(20).index\n",
    "df.Item.value_counts().head(20).values"
   ]
  },
  {
   "cell_type": "markdown",
   "metadata": {},
   "source": [
    "We will use the matplt and seaborn packages to draw a bar chart of the top 20 items in the dataframe."
   ]
  },
  {
   "cell_type": "code",
   "execution_count": 7,
   "metadata": {},
   "outputs": [
    {
     "data": {
      "image/png": "[encoded data removed]",
      "text/plain": [
       "<Figure size 1080x720 with 1 Axes>"
      ]
     },
     "metadata": {
      "needs_background": "light"
     },
     "output_type": "display_data"
    }
   ],
   "source": [
    "plt.figure(figsize=(15,10))\n",
    "sns.barplot(x = df.Item.value_counts().head(20).index, y = df.Item.value_counts().head(20).values)\n",
    "plt.xlabel('Items', size = 19)\n",
    "plt.xticks(rotation=90)\n",
    "plt.ylabel('Count of Items', size = 19)\n",
    "plt.show()"
   ]
  },
  {
   "cell_type": "markdown",
   "metadata": {},
   "source": [
    "Number of transactions per month:"
   ]
  },
  {
   "cell_type": "code",
   "execution_count": 8,
   "metadata": {},
   "outputs": [
    {
     "data": {
      "image/png": "[encoded data removed]",
      "text/plain": [
       "<Figure size 864x360 with 1 Axes>"
      ]
     },
     "metadata": {
      "needs_background": "light"
     },
     "output_type": "display_data"
    }
   ],
   "source": [
    "monthTran = df.groupby('month')['Transaction'].count().reset_index()\n",
    "monthTran.loc[:,\"monthorder\"] = [4,8,12,2,1,7,6,3,5,11,10,9]\n",
    "#monthTran.sort_values(\"monthorder\",inplace=True)\n",
    "\n",
    "plt.figure(figsize=(12,5))\n",
    "sns.barplot(data = monthTran, x = \"month\", y = \"Transaction\")\n",
    "plt.xlabel('Months', size = 15)\n",
    "plt.xticks(rotation=90)\n",
    "plt.ylabel('Orders per month', size = 15)\n",
    "plt.show()\n",
    "\n",
    "\n",
    "plt.show()"
   ]
  },
  {
   "cell_type": "markdown",
   "metadata": {},
   "source": [
    "Now the same but for weekdays(group transactions by weekdays and weekends):"
   ]
  },
  {
   "cell_type": "code",
   "execution_count": 9,
   "metadata": {},
   "outputs": [
    {
     "data": {
      "image/png": "[encoded data removed]",
      "text/plain": [
       "<Figure size 864x360 with 1 Axes>"
      ]
     },
     "metadata": {
      "needs_background": "light"
     },
     "output_type": "display_data"
    }
   ],
   "source": [
    "weekTran = df.groupby('weekday_weekend')['Transaction'].count().reset_index()\n",
    "weekTran.loc[:, \"weekdayorder\"] = [1,2]\n",
    "plt.figure(figsize=(12,5))\n",
    "sns.barplot(data=weekTran, x='weekday_weekend', y='Transaction')\n",
    "plt.xlabel('Week', size=15)\n",
    "plt.ylabel('Amount of Transactions')\n",
    "plt.show()"
   ]
  },
  {
   "cell_type": "markdown",
   "metadata": {},
   "source": [
    "Obviously, the weekdays have more transactions in them as they are comprised of 5 days, while the weekend is made of only 2 days, so this chart is a bit misleading. \n",
    "\n",
    "Therefore, we can make a chart that displays all days individually which will give us more accurate results:"
   ]
  },
  {
   "cell_type": "code",
   "execution_count": 10,
   "metadata": {},
   "outputs": [
    {
     "data": {
      "image/png": "[encoded data removed]",
      "text/plain": [
       "<Figure size 864x360 with 1 Axes>"
      ]
     },
     "metadata": {
      "needs_background": "light"
     },
     "output_type": "display_data"
    },
    {
     "data": {
      "text/html": [
       "<div>\n",
       "<style scoped>\n",
       "    .dataframe tbody tr th:only-of-type {\n",
       "        vertical-align: middle;\n",
       "    }\n",
       "\n",
       "    .dataframe tbody tr th {\n",
       "        vertical-align: top;\n",
       "    }\n",
       "\n",
       "    .dataframe thead th {\n",
       "        text-align: right;\n",
       "    }\n",
       "</style>\n",
       "<table border=\"1\" class=\"dataframe\">\n",
       "  <thead>\n",
       "    <tr style=\"text-align: right;\">\n",
       "      <th></th>\n",
       "      <th>Transaction</th>\n",
       "      <th>Item</th>\n",
       "    </tr>\n",
       "  </thead>\n",
       "  <tbody>\n",
       "    <tr>\n",
       "      <th>0</th>\n",
       "      <td>1</td>\n",
       "      <td>bread</td>\n",
       "    </tr>\n",
       "    <tr>\n",
       "      <th>1</th>\n",
       "      <td>2</td>\n",
       "      <td>scandinavian</td>\n",
       "    </tr>\n",
       "    <tr>\n",
       "      <th>2</th>\n",
       "      <td>2</td>\n",
       "      <td>scandinavian</td>\n",
       "    </tr>\n",
       "    <tr>\n",
       "      <th>3</th>\n",
       "      <td>3</td>\n",
       "      <td>hot chocolate</td>\n",
       "    </tr>\n",
       "    <tr>\n",
       "      <th>4</th>\n",
       "      <td>3</td>\n",
       "      <td>jam</td>\n",
       "    </tr>\n",
       "    <tr>\n",
       "      <th>5</th>\n",
       "      <td>3</td>\n",
       "      <td>cookies</td>\n",
       "    </tr>\n",
       "    <tr>\n",
       "      <th>6</th>\n",
       "      <td>4</td>\n",
       "      <td>muffin</td>\n",
       "    </tr>\n",
       "    <tr>\n",
       "      <th>7</th>\n",
       "      <td>5</td>\n",
       "      <td>coffee</td>\n",
       "    </tr>\n",
       "    <tr>\n",
       "      <th>8</th>\n",
       "      <td>5</td>\n",
       "      <td>pastry</td>\n",
       "    </tr>\n",
       "    <tr>\n",
       "      <th>9</th>\n",
       "      <td>5</td>\n",
       "      <td>bread</td>\n",
       "    </tr>\n",
       "    <tr>\n",
       "      <th>10</th>\n",
       "      <td>6</td>\n",
       "      <td>medialuna</td>\n",
       "    </tr>\n",
       "  </tbody>\n",
       "</table>\n",
       "</div>"
      ],
      "text/plain": [
       "    Transaction           Item\n",
       "0             1          bread\n",
       "1             2   scandinavian\n",
       "2             2   scandinavian\n",
       "3             3  hot chocolate\n",
       "4             3            jam\n",
       "5             3        cookies\n",
       "6             4         muffin\n",
       "7             5         coffee\n",
       "8             5         pastry\n",
       "9             5          bread\n",
       "10            6      medialuna"
      ]
     },
     "execution_count": 10,
     "metadata": {},
     "output_type": "execute_result"
    }
   ],
   "source": [
    "weekTran = df.groupby('weekday')['Transaction'].count().reset_index()\n",
    "weekTran.loc[:, \"weekdayorder\"] = [1,2,3,4,5,6,7]\n",
    "plt.figure(figsize=(12,5))\n",
    "sns.barplot(data=weekTran, x='weekday', y='Transaction')\n",
    "plt.xlabel('Days of week', size=15)\n",
    "plt.ylabel('Amount of Transactions')\n",
    "plt.show()\n",
    "tempdata = df.loc[:10,['Transaction','Item']]\n",
    "tempdata"
   ]
  },
  {
   "cell_type": "markdown",
   "metadata": {},
   "source": [
    "Now for the apriori algorithm:"
   ]
  },
  {
   "cell_type": "markdown",
   "metadata": {},
   "source": [
    "The dataset has to be in an appropriate form inorder to use apriori on it, so we will turn it into a list of items, then encode it with the TransactionEncoder function!"
   ]
  },
  {
   "cell_type": "code",
   "execution_count": 13,
   "metadata": {},
   "outputs": [
    {
     "name": "stderr",
     "output_type": "stream",
     "text": [
      "d:\\Hussein\\Languages\\Anaconda\\lib\\site-packages\\ipykernel\\ipkernel.py:287: DeprecationWarning: `should_run_async` will not call `transform_cell` automatically in the future. Please pass the result to `transformed_cell` argument and any exception that happen during thetransform in `preprocessing_exc_tuple` in IPython 7.17 and above.\n",
      "  and should_run_async(code)\n"
     ]
    }
   ],
   "source": [
    "from mlxtend.frequent_patterns import apriori, association_rules\n",
    "from mlxtend.preprocessing import TransactionEncoder\n",
    "\n",
    "transactions = df.groupby('Transaction')['Item'].apply(list).tolist()\n",
    "\n",
    "te = TransactionEncoder()\n",
    "te_ary = te.fit(transactions).transform(transactions)\n",
    "df_encoded = pd.DataFrame(te_ary, columns=te.columns_)"
   ]
  },
  {
   "cell_type": "markdown",
   "metadata": {},
   "source": [
    "Now finally, the algorithm:"
   ]
  },
  {
   "cell_type": "code",
   "execution_count": 17,
   "metadata": {},
   "outputs": [
    {
     "name": "stderr",
     "output_type": "stream",
     "text": [
      "d:\\Hussein\\Languages\\Anaconda\\lib\\site-packages\\ipykernel\\ipkernel.py:287: DeprecationWarning: `should_run_async` will not call `transform_cell` automatically in the future. Please pass the result to `transformed_cell` argument and any exception that happen during thetransform in `preprocessing_exc_tuple` in IPython 7.17 and above.\n",
      "  and should_run_async(code)\n"
     ]
    },
    {
     "data": {
      "text/html": [
       "<div>\n",
       "<style scoped>\n",
       "    .dataframe tbody tr th:only-of-type {\n",
       "        vertical-align: middle;\n",
       "    }\n",
       "\n",
       "    .dataframe tbody tr th {\n",
       "        vertical-align: top;\n",
       "    }\n",
       "\n",
       "    .dataframe thead th {\n",
       "        text-align: right;\n",
       "    }\n",
       "</style>\n",
       "<table border=\"1\" class=\"dataframe\">\n",
       "  <thead>\n",
       "    <tr style=\"text-align: right;\">\n",
       "      <th></th>\n",
       "      <th>support</th>\n",
       "      <th>itemsets</th>\n",
       "    </tr>\n",
       "  </thead>\n",
       "  <tbody>\n",
       "    <tr>\n",
       "      <th>2</th>\n",
       "      <td>0.478394</td>\n",
       "      <td>(coffee)</td>\n",
       "    </tr>\n",
       "    <tr>\n",
       "      <th>0</th>\n",
       "      <td>0.327205</td>\n",
       "      <td>(bread)</td>\n",
       "    </tr>\n",
       "    <tr>\n",
       "      <th>8</th>\n",
       "      <td>0.142631</td>\n",
       "      <td>(tea)</td>\n",
       "    </tr>\n",
       "    <tr>\n",
       "      <th>1</th>\n",
       "      <td>0.103856</td>\n",
       "      <td>(cake)</td>\n",
       "    </tr>\n",
       "    <tr>\n",
       "      <th>9</th>\n",
       "      <td>0.090016</td>\n",
       "      <td>(coffee, bread)</td>\n",
       "    </tr>\n",
       "    <tr>\n",
       "      <th>6</th>\n",
       "      <td>0.086107</td>\n",
       "      <td>(pastry)</td>\n",
       "    </tr>\n",
       "    <tr>\n",
       "      <th>7</th>\n",
       "      <td>0.071844</td>\n",
       "      <td>(sandwich)</td>\n",
       "    </tr>\n",
       "    <tr>\n",
       "      <th>5</th>\n",
       "      <td>0.061807</td>\n",
       "      <td>(medialuna)</td>\n",
       "    </tr>\n",
       "    <tr>\n",
       "      <th>4</th>\n",
       "      <td>0.058320</td>\n",
       "      <td>(hot chocolate)</td>\n",
       "    </tr>\n",
       "    <tr>\n",
       "      <th>10</th>\n",
       "      <td>0.054728</td>\n",
       "      <td>(cake, coffee)</td>\n",
       "    </tr>\n",
       "    <tr>\n",
       "      <th>3</th>\n",
       "      <td>0.054411</td>\n",
       "      <td>(cookies)</td>\n",
       "    </tr>\n",
       "  </tbody>\n",
       "</table>\n",
       "</div>"
      ],
      "text/plain": [
       "     support         itemsets\n",
       "2   0.478394         (coffee)\n",
       "0   0.327205          (bread)\n",
       "8   0.142631            (tea)\n",
       "1   0.103856           (cake)\n",
       "9   0.090016  (coffee, bread)\n",
       "6   0.086107         (pastry)\n",
       "7   0.071844       (sandwich)\n",
       "5   0.061807      (medialuna)\n",
       "4   0.058320  (hot chocolate)\n",
       "10  0.054728   (cake, coffee)\n",
       "3   0.054411        (cookies)"
      ]
     },
     "execution_count": 17,
     "metadata": {},
     "output_type": "execute_result"
    }
   ],
   "source": [
    "frequent_itemsets = apriori(df_encoded, min_support=0.05, use_colnames=True)\n",
    "sorted_frequent_itemsets = frequent_itemsets.sort_values(by='support', ascending=False)\n",
    "sorted_frequent_itemsets\n"
   ]
  }
 ],
 "metadata": {
  "kernelspec": {
   "display_name": "base",
   "language": "python",
   "name": "python3"
  },
  "language_info": {
   "codemirror_mode": {
    "name": "ipython",
    "version": 3
   },
   "file_extension": ".py",
   "mimetype": "text/x-python",
   "name": "python",
   "nbconvert_exporter": "python",
   "pygments_lexer": "ipython3",
   "version": "3.8.5"
  }
 },
 "nbformat": 4,
 "nbformat_minor": 2
}
